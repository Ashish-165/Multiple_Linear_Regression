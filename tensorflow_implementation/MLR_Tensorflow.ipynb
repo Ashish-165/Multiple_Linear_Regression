{
  "nbformat": 4,
  "nbformat_minor": 0,
  "metadata": {
    "colab": {
      "name": "MLR_Tensorflow.ipynb",
      "provenance": [],
      "collapsed_sections": []
    },
    "kernelspec": {
      "name": "python3",
      "display_name": "Python 3"
    }
  },
  "cells": [
    {
      "cell_type": "markdown",
      "metadata": {
        "id": "o_HuzcqWjtt4"
      },
      "source": [
        "# Importing the libraries"
      ]
    },
    {
      "cell_type": "code",
      "metadata": {
        "id": "KRFWhp8njmgq"
      },
      "source": [
        "import tensorflow as tf\n",
        "import pandas as pd\n",
        "import numpy as np\n",
        "import matplotlib.pyplot as plt\n",
        "from sklearn.preprocessing import StandardScaler\n",
        "from sklearn.model_selection import train_test_split"
      ],
      "execution_count": 1,
      "outputs": []
    },
    {
      "cell_type": "markdown",
      "metadata": {
        "id": "EGe_cw-6jsh7"
      },
      "source": [
        "# Importing the dataset"
      ]
    },
    {
      "cell_type": "code",
      "metadata": {
        "id": "6O3Sd3C9j_aG"
      },
      "source": [
        "dataset = pd.read_csv('50_Startups.csv')\n",
        "X = dataset.iloc[:, :-1].values\n",
        "y = dataset.iloc[:, -1].values"
      ],
      "execution_count": 2,
      "outputs": []
    },
    {
      "cell_type": "code",
      "metadata": {
        "colab": {
          "base_uri": "https://localhost:8080/"
        },
        "id": "6Kr_mLh9lFir",
        "outputId": "7fd11c08-7477-4beb-c945-540f525e7b10"
      },
      "source": [
        "# Here as we can see the first 4 colums represent the independent variables\n",
        "# Whereas the last column i.e. 'Profit' represent the variable that we are trying to predict\n",
        "print(dataset.keys())"
      ],
      "execution_count": 3,
      "outputs": [
        {
          "output_type": "stream",
          "text": [
            "Index(['R&D Spend', 'Administration', 'Marketing Spend', 'State', 'Profit'], dtype='object')\n"
          ],
          "name": "stdout"
        }
      ]
    },
    {
      "cell_type": "markdown",
      "metadata": {
        "id": "TuOCossWlN5K"
      },
      "source": [
        "# Preprocessing"
      ]
    },
    {
      "cell_type": "code",
      "metadata": {
        "id": "PKY12WSspApy"
      },
      "source": [
        "# Making sure that the array is of correct dimension, so as to make sure no errors occur\n",
        "y = y.reshape((len(y)), 1)"
      ],
      "execution_count": 4,
      "outputs": []
    },
    {
      "cell_type": "code",
      "metadata": {
        "id": "nC0mkRFCk0ot"
      },
      "source": [
        "# Taking care of categorical feature i.e. State feature from the dataset\n",
        "dummy = np.array(pd.get_dummies(X[:, 3], dtype=np.float32).values)\n",
        "X = np.delete(X, 3, axis=1)\n",
        "X = np.concatenate((X, dummy), axis=1)"
      ],
      "execution_count": 5,
      "outputs": []
    },
    {
      "cell_type": "code",
      "metadata": {
        "id": "wipYZfrSkoT-"
      },
      "source": [
        "# Feature Scaling\n",
        "sc_X = StandardScaler()\n",
        "sc_y = StandardScaler()\n",
        "\n",
        "X[:, 0:3] = sc_X.fit_transform(X[:, 0:3])\n",
        "y = sc_y.fit_transform(y)"
      ],
      "execution_count": 6,
      "outputs": []
    },
    {
      "cell_type": "markdown",
      "metadata": {
        "id": "q4AZpqY2qFi4"
      },
      "source": [
        "# Splitting the dataset into training and test sets"
      ]
    },
    {
      "cell_type": "code",
      "metadata": {
        "id": "8ZtwY672nFME"
      },
      "source": [
        "X_train, X_test, y_train, y_test = train_test_split(X, y, test_size=0.2, random_state=0)\n",
        "\n",
        "# Making sure that all the arrays of proper datatype \n",
        "X_train=np.asarray(X_train).astype(np.float32)\n",
        "y_train = np.asarray(y_train).astype(np.float32)\n",
        "X_test=np.asarray(X_test).astype(np.float32)\n",
        "y_test = np.asarray(y_test).astype(np.float32)"
      ],
      "execution_count": 7,
      "outputs": []
    },
    {
      "cell_type": "markdown",
      "metadata": {
        "id": "DIfbC5zZqmbm"
      },
      "source": [
        "# Building the model"
      ]
    },
    {
      "cell_type": "code",
      "metadata": {
        "id": "a0nxNW48qjDh"
      },
      "source": [
        "# Input shape is 6 corresponding to 6 input features i.e Administration, Marketing spend, R&D and 3 for state variable \n",
        "model = tf.keras.models.Sequential([tf.keras.layers.Dense(units=1, input_shape=[6])])"
      ],
      "execution_count": 8,
      "outputs": []
    },
    {
      "cell_type": "markdown",
      "metadata": {
        "id": "WniAuu-drGHC"
      },
      "source": [
        "# summary of the model"
      ]
    },
    {
      "cell_type": "code",
      "metadata": {
        "colab": {
          "base_uri": "https://localhost:8080/"
        },
        "id": "O4s9a81mrISm",
        "outputId": "3532f550-749f-499f-de90-7d0cfb1bd50e"
      },
      "source": [
        "model.summary()"
      ],
      "execution_count": 9,
      "outputs": [
        {
          "output_type": "stream",
          "text": [
            "Model: \"sequential\"\n",
            "_________________________________________________________________\n",
            "Layer (type)                 Output Shape              Param #   \n",
            "=================================================================\n",
            "dense (Dense)                (None, 1)                 7         \n",
            "=================================================================\n",
            "Total params: 7\n",
            "Trainable params: 7\n",
            "Non-trainable params: 0\n",
            "_________________________________________________________________\n"
          ],
          "name": "stdout"
        }
      ]
    },
    {
      "cell_type": "markdown",
      "metadata": {
        "id": "bxWBukJXrAx7"
      },
      "source": [
        "# Compiling the model"
      ]
    },
    {
      "cell_type": "code",
      "metadata": {
        "id": "slhJG8tDq_ug"
      },
      "source": [
        "model.compile(optimizer=tf.compat.v1.train.GradientDescentOptimizer(0.01), loss='mean_squared_error')"
      ],
      "execution_count": 10,
      "outputs": []
    },
    {
      "cell_type": "markdown",
      "metadata": {
        "id": "zQDC68iCrUvg"
      },
      "source": [
        "# Training the model"
      ]
    },
    {
      "cell_type": "code",
      "metadata": {
        "id": "k695IbVDrjtE"
      },
      "source": [
        "history = model.fit(x=X_train, y=y_train, epochs=400, verbose=0)"
      ],
      "execution_count": 11,
      "outputs": []
    },
    {
      "cell_type": "markdown",
      "metadata": {
        "id": "UYjFb084wq3b"
      },
      "source": [
        "# Cost v/s No. of iterations"
      ]
    },
    {
      "cell_type": "code",
      "metadata": {
        "colab": {
          "base_uri": "https://localhost:8080/",
          "height": 279
        },
        "id": "NugU1NZJt1oI",
        "outputId": "e8ba1c2e-deae-41aa-e98e-036d08e6519d"
      },
      "source": [
        "iter = [i for i in range(400)]\n",
        "\n",
        "plt.plot(iter, history.history['loss'], color='orange')\n",
        "plt.xlabel('No. of iterations')\n",
        "plt.ylabel('cost')\n",
        "plt.show()"
      ],
      "execution_count": 12,
      "outputs": [
        {
          "output_type": "display_data",
          "data": {
            "image/png": "[encoded data removed]",
            "text/plain": [
              "<Figure size 432x288 with 1 Axes>"
            ]
          },
          "metadata": {
            "tags": [],
            "needs_background": "light"
          }
        }
      ]
    },
    {
      "cell_type": "markdown",
      "metadata": {
        "id": "GkQFc4R2x2vd"
      },
      "source": [
        "#Prediction on the test set"
      ]
    },
    {
      "cell_type": "code",
      "metadata": {
        "colab": {
          "base_uri": "https://localhost:8080/"
        },
        "id": "ZgVs226ywccU",
        "outputId": "9423c53d-58c6-4ecd-addb-f287226af8bd"
      },
      "source": [
        "model.evaluate(x=X_test, y=y_test)"
      ],
      "execution_count": 13,
      "outputs": [
        {
          "output_type": "stream",
          "text": [
            "1/1 [==============================] - 0s 92ms/step - loss: 0.0559\n"
          ],
          "name": "stdout"
        },
        {
          "output_type": "execute_result",
          "data": {
            "text/plain": [
              "0.05591635778546333"
            ]
          },
          "metadata": {
            "tags": []
          },
          "execution_count": 13
        }
      ]
    },
    {
      "cell_type": "code",
      "metadata": {
        "colab": {
          "base_uri": "https://localhost:8080/"
        },
        "id": "P71Hs-t0yKND",
        "outputId": "3442dc3f-8bb7-4b85-cc41-af39f35fc0d2"
      },
      "source": [
        "y_pred = model.predict(X_test)\n",
        "y_pred = sc_y.inverse_transform(y_pred)\n",
        "y_orig = sc_y.inverse_transform(y_test)\n",
        "print(np.concatenate((y_pred, y_orig), axis=1))\n",
        "\n",
        "\n",
        "# As we can see the predictions are pretty close to the test values but not exactly same,\n",
        "# this is due to the fact that the amount of training data is pretty less and maybe overfitting.\n",
        "# As we can see from the cost v/s iterations plot above, the algorithm does work properly\n",
        "# and the cost is reducing nicely overall.\n",
        "# The perfomance can be increased by getting additional data and avoiding overfitting, \n",
        "# so as to help the model generalize better to the previously unseen data."
      ],
      "execution_count": 16,
      "outputs": [
        {
          "output_type": "stream",
          "text": [
            "[[103108.46  103282.38 ]\n",
            " [132325.72  144259.4  ]\n",
            " [131937.56  146121.95 ]\n",
            " [ 71356.76   77798.83 ]\n",
            " [178098.02  191050.39 ]\n",
            " [116360.22  105008.31 ]\n",
            " [ 67318.9    81229.06 ]\n",
            " [ 98756.99   97483.56 ]\n",
            " [113818.125 110352.25 ]\n",
            " [167348.06  166187.94 ]]\n"
          ],
          "name": "stdout"
        }
      ]
    }
  ]
}